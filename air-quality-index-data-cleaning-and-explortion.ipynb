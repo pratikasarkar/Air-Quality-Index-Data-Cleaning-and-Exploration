{
 "cells": [
  {
   "cell_type": "code",
   "execution_count": 1,
   "metadata": {},
   "outputs": [],
   "source": [
    "import numpy as np\n",
    "import pandas as pd\n",
    "import seaborn as sns\n",
    "import matplotlib.pyplot as plt\n",
    "import warnings\n",
    "warnings.filterwarnings('ignore')"
   ]
  },
  {
   "cell_type": "code",
   "execution_count": 2,
   "metadata": {},
   "outputs": [],
   "source": [
    "df = pd.read_csv('../input/airquality/data.csv')"
   ]
  },
  {
   "cell_type": "code",
   "execution_count": 3,
   "metadata": {},
   "outputs": [
    {
     "data": {
      "text/html": [
       "<div>\n",
       "<style scoped>\n",
       "    .dataframe tbody tr th:only-of-type {\n",
       "        vertical-align: middle;\n",
       "    }\n",
       "\n",
       "    .dataframe tbody tr th {\n",
       "        vertical-align: top;\n",
       "    }\n",
       "\n",
       "    .dataframe thead th {\n",
       "        text-align: right;\n",
       "    }\n",
       "</style>\n",
       "<table border=\"1\" class=\"dataframe\">\n",
       "  <thead>\n",
       "    <tr style=\"text-align: right;\">\n",
       "      <th></th>\n",
       "      <th>stn_code</th>\n",
       "      <th>sampling_date</th>\n",
       "      <th>state</th>\n",
       "      <th>location</th>\n",
       "      <th>agency</th>\n",
       "      <th>type</th>\n",
       "      <th>so2</th>\n",
       "      <th>no2</th>\n",
       "      <th>rspm</th>\n",
       "      <th>spm</th>\n",
       "      <th>location_monitoring_station</th>\n",
       "      <th>pm2_5</th>\n",
       "      <th>date</th>\n",
       "    </tr>\n",
       "  </thead>\n",
       "  <tbody>\n",
       "    <tr>\n",
       "      <th>0</th>\n",
       "      <td>150</td>\n",
       "      <td>February - M021990</td>\n",
       "      <td>Andhra Pradesh</td>\n",
       "      <td>Hyderabad</td>\n",
       "      <td>NaN</td>\n",
       "      <td>Residential, Rural and other Areas</td>\n",
       "      <td>4.8</td>\n",
       "      <td>17.4</td>\n",
       "      <td>NaN</td>\n",
       "      <td>NaN</td>\n",
       "      <td>NaN</td>\n",
       "      <td>NaN</td>\n",
       "      <td>01-02-1990</td>\n",
       "    </tr>\n",
       "    <tr>\n",
       "      <th>1</th>\n",
       "      <td>151</td>\n",
       "      <td>February - M021990</td>\n",
       "      <td>Andhra Pradesh</td>\n",
       "      <td>Hyderabad</td>\n",
       "      <td>NaN</td>\n",
       "      <td>Industrial Area</td>\n",
       "      <td>3.1</td>\n",
       "      <td>7.0</td>\n",
       "      <td>NaN</td>\n",
       "      <td>NaN</td>\n",
       "      <td>NaN</td>\n",
       "      <td>NaN</td>\n",
       "      <td>01-02-1990</td>\n",
       "    </tr>\n",
       "    <tr>\n",
       "      <th>2</th>\n",
       "      <td>152</td>\n",
       "      <td>February - M021990</td>\n",
       "      <td>Andhra Pradesh</td>\n",
       "      <td>Hyderabad</td>\n",
       "      <td>NaN</td>\n",
       "      <td>Residential, Rural and other Areas</td>\n",
       "      <td>6.2</td>\n",
       "      <td>28.5</td>\n",
       "      <td>NaN</td>\n",
       "      <td>NaN</td>\n",
       "      <td>NaN</td>\n",
       "      <td>NaN</td>\n",
       "      <td>01-02-1990</td>\n",
       "    </tr>\n",
       "    <tr>\n",
       "      <th>3</th>\n",
       "      <td>150</td>\n",
       "      <td>March - M031990</td>\n",
       "      <td>Andhra Pradesh</td>\n",
       "      <td>Hyderabad</td>\n",
       "      <td>NaN</td>\n",
       "      <td>Residential, Rural and other Areas</td>\n",
       "      <td>6.3</td>\n",
       "      <td>14.7</td>\n",
       "      <td>NaN</td>\n",
       "      <td>NaN</td>\n",
       "      <td>NaN</td>\n",
       "      <td>NaN</td>\n",
       "      <td>01-03-1990</td>\n",
       "    </tr>\n",
       "    <tr>\n",
       "      <th>4</th>\n",
       "      <td>151</td>\n",
       "      <td>March - M031990</td>\n",
       "      <td>Andhra Pradesh</td>\n",
       "      <td>Hyderabad</td>\n",
       "      <td>NaN</td>\n",
       "      <td>Industrial Area</td>\n",
       "      <td>4.7</td>\n",
       "      <td>7.5</td>\n",
       "      <td>NaN</td>\n",
       "      <td>NaN</td>\n",
       "      <td>NaN</td>\n",
       "      <td>NaN</td>\n",
       "      <td>01-03-1990</td>\n",
       "    </tr>\n",
       "  </tbody>\n",
       "</table>\n",
       "</div>"
      ],
      "text/plain": [
       "  stn_code       sampling_date           state   location agency  \\\n",
       "0      150  February - M021990  Andhra Pradesh  Hyderabad    NaN   \n",
       "1      151  February - M021990  Andhra Pradesh  Hyderabad    NaN   \n",
       "2      152  February - M021990  Andhra Pradesh  Hyderabad    NaN   \n",
       "3      150     March - M031990  Andhra Pradesh  Hyderabad    NaN   \n",
       "4      151     March - M031990  Andhra Pradesh  Hyderabad    NaN   \n",
       "\n",
       "                                 type  so2   no2  rspm  spm  \\\n",
       "0  Residential, Rural and other Areas  4.8  17.4   NaN  NaN   \n",
       "1                     Industrial Area  3.1   7.0   NaN  NaN   \n",
       "2  Residential, Rural and other Areas  6.2  28.5   NaN  NaN   \n",
       "3  Residential, Rural and other Areas  6.3  14.7   NaN  NaN   \n",
       "4                     Industrial Area  4.7   7.5   NaN  NaN   \n",
       "\n",
       "  location_monitoring_station  pm2_5        date  \n",
       "0                         NaN    NaN  01-02-1990  \n",
       "1                         NaN    NaN  01-02-1990  \n",
       "2                         NaN    NaN  01-02-1990  \n",
       "3                         NaN    NaN  01-03-1990  \n",
       "4                         NaN    NaN  01-03-1990  "
      ]
     },
     "execution_count": 3,
     "metadata": {},
     "output_type": "execute_result"
    }
   ],
   "source": [
    "df.head()"
   ]
  },
  {
   "cell_type": "code",
   "execution_count": 4,
   "metadata": {},
   "outputs": [],
   "source": [
    "df['type'].replace('Residential, Rural and other Areas','Residential',inplace = True)\n",
    "df['type'].replace('Residential and others','Residential',inplace = True)\n",
    "df['type'].replace('Industrial Areas','Industrial',inplace = True)\n",
    "df['type'].replace('Industrial Area','Industrial',inplace = True)\n",
    "df['type'].replace('Sensitive Area','Sensitive',inplace = True)\n",
    "df['type'].replace('Sensitive Areas','Sensitive',inplace = True)"
   ]
  },
  {
   "cell_type": "markdown",
   "metadata": {},
   "source": [
    "We have replaced all the similar types of locations and got them down to only 4 following categories:\n",
    "\n",
    "Residential\n",
    "\n",
    "Industrial\n",
    "\n",
    "Sensitive\n",
    "\n",
    "RIRUO"
   ]
  },
  {
   "cell_type": "code",
   "execution_count": 5,
   "metadata": {},
   "outputs": [
    {
     "data": {
      "text/plain": [
       "Residential    265963\n",
       "Industrial     148071\n",
       "Sensitive       15011\n",
       "RIRUO            1304\n",
       "Name: type, dtype: int64"
      ]
     },
     "execution_count": 5,
     "metadata": {},
     "output_type": "execute_result"
    }
   ],
   "source": [
    "df['type'].value_counts()"
   ]
  },
  {
   "cell_type": "code",
   "execution_count": 6,
   "metadata": {},
   "outputs": [
    {
     "data": {
      "text/plain": [
       "<matplotlib.axes._subplots.AxesSubplot at 0x7f36c7292e10>"
      ]
     },
     "execution_count": 6,
     "metadata": {},
     "output_type": "execute_result"
    },
    {
     "data": {
      "image/png": "[encoded data removed]",
      "text/plain": [
       "<Figure size 432x288 with 1 Axes>"
      ]
     },
     "metadata": {
      "needs_background": "light"
     },
     "output_type": "display_data"
    }
   ],
   "source": [
    "df['type'].value_counts().plot(kind = 'bar')"
   ]
  },
  {
   "cell_type": "markdown",
   "metadata": {},
   "source": [
    "From the above figure we can see that the data was recorded more from the residential areas as compared to other areas."
   ]
  },
  {
   "cell_type": "code",
   "execution_count": 7,
   "metadata": {},
   "outputs": [
    {
     "name": "stdout",
     "output_type": "stream",
     "text": [
      "stn_code    405.0\n",
      "so2          10.7\n",
      "no2          21.0\n",
      "rspm         58.0\n",
      "spm         112.0\n",
      "pm2_5         NaN\n",
      "dtype: float64 stn_code    457.0\n",
      "so2           7.0\n",
      "no2          20.0\n",
      "rspm         64.0\n",
      "spm         166.0\n",
      "pm2_5         NaN\n",
      "dtype: float64 stn_code    459.0\n",
      "so2           8.0\n",
      "no2          27.0\n",
      "rspm         57.7\n",
      "spm         162.0\n",
      "pm2_5         NaN\n",
      "dtype: float64\n"
     ]
    }
   ],
   "source": [
    "g = df.groupby(['state','type'])\n",
    "d = dict(list(g))\n",
    "kar_ind = d[('Karnataka','Industrial')].median()\n",
    "kar_res = d[('Karnataka','Residential')].median()\n",
    "kar_sen = d[('Karnataka','Sensitive')].median()\n",
    "print(kar_ind,kar_res,kar_sen)\n",
    "# kar_riruo = d[('Karnataka','RIRUO')].mean()"
   ]
  },
  {
   "cell_type": "code",
   "execution_count": 8,
   "metadata": {},
   "outputs": [
    {
     "name": "stdout",
     "output_type": "stream",
     "text": [
      "34646\n",
      "16233\n"
     ]
    }
   ],
   "source": [
    "print(df['so2'].isnull().sum())\n",
    "print(df['no2'].isnull().sum())"
   ]
  },
  {
   "cell_type": "code",
   "execution_count": 9,
   "metadata": {},
   "outputs": [],
   "source": [
    "df.loc[(df['state'] == 'Karnataka') & (df['type'] == 'Industrial') & (df['so2'].isnull()),'so2'] = kar_ind['so2']\n",
    "df.loc[(df['state'] == 'Karnataka') & (df['type'] == 'Residential') & (df['so2'].isnull()),'so2'] = kar_res['so2']\n",
    "df.loc[(df['state'] == 'Karnataka') & (df['type'] == 'Sensitive') & (df['so2'].isnull()),'so2'] = kar_sen['so2']\n",
    "# df.loc[(df['state'] == 'Karnataka') & (df['type'] == 'RIROU') & (df['so2'].isnull()),'so2'] = kar_rirou['so2']"
   ]
  },
  {
   "cell_type": "markdown",
   "metadata": {},
   "source": [
    "In the above code we have replaced the na values for so2 in the state of karnataka with the medians depending on their type of locations "
   ]
  },
  {
   "cell_type": "code",
   "execution_count": 10,
   "metadata": {},
   "outputs": [],
   "source": [
    "df.loc[(df['state'] == 'Karnataka') & (df['type'] == 'Industrial') & (df['no2'].isnull()),'no2'] = kar_ind['no2']\n",
    "df.loc[(df['state'] == 'Karnataka') & (df['type'] == 'Residential') & (df['no2'].isnull()),'no2'] = kar_res['no2']\n",
    "df.loc[(df['state'] == 'Karnataka') & (df['type'] == 'Sensitive') & (df['no2'].isnull()),'no2'] = kar_sen['no2']\n",
    "# df.loc[(df['state'] == 'Karnataka') & (df['type'] == 'RIROU') & (df['so2'].isnull()),'so2'] = kar_rirou['so2']"
   ]
  },
  {
   "cell_type": "markdown",
   "metadata": {},
   "source": [
    "In the above code we have replaced the na values for no2 in the state of karnataka with the medians depending on their type of locations"
   ]
  },
  {
   "cell_type": "code",
   "execution_count": 11,
   "metadata": {},
   "outputs": [],
   "source": [
    "df['date'] = pd.to_datetime(df['date'])"
   ]
  },
  {
   "cell_type": "code",
   "execution_count": 12,
   "metadata": {},
   "outputs": [],
   "source": [
    "df['year'] = df['date'].dt.year"
   ]
  },
  {
   "cell_type": "code",
   "execution_count": 13,
   "metadata": {},
   "outputs": [],
   "source": [
    "df['year'].fillna(method = 'ffill',inplace = True)"
   ]
  },
  {
   "cell_type": "markdown",
   "metadata": {},
   "source": [
    "In the above code we have extracted the year from the date replaced na values for the same with forward fill"
   ]
  },
  {
   "cell_type": "code",
   "execution_count": 14,
   "metadata": {},
   "outputs": [],
   "source": [
    "df['year'] = df['year'].astype(int)"
   ]
  },
  {
   "cell_type": "code",
   "execution_count": 15,
   "metadata": {},
   "outputs": [
    {
     "data": {
      "text/plain": [
       "0"
      ]
     },
     "execution_count": 15,
     "metadata": {},
     "output_type": "execute_result"
    }
   ],
   "source": [
    "df['year'].isnull().sum()"
   ]
  },
  {
   "cell_type": "code",
   "execution_count": 16,
   "metadata": {},
   "outputs": [],
   "source": [
    "d = dict(list(df[['location','year','so2','no2']].groupby('location')))"
   ]
  },
  {
   "cell_type": "code",
   "execution_count": 17,
   "metadata": {},
   "outputs": [],
   "source": [
    "data = d['Bangalore'].groupby('year').median().reset_index()"
   ]
  },
  {
   "cell_type": "code",
   "execution_count": 18,
   "metadata": {},
   "outputs": [
    {
     "data": {
      "text/html": [
       "<div>\n",
       "<style scoped>\n",
       "    .dataframe tbody tr th:only-of-type {\n",
       "        vertical-align: middle;\n",
       "    }\n",
       "\n",
       "    .dataframe tbody tr th {\n",
       "        vertical-align: top;\n",
       "    }\n",
       "\n",
       "    .dataframe thead th {\n",
       "        text-align: right;\n",
       "    }\n",
       "</style>\n",
       "<table border=\"1\" class=\"dataframe\">\n",
       "  <thead>\n",
       "    <tr style=\"text-align: right;\">\n",
       "      <th></th>\n",
       "      <th>year</th>\n",
       "      <th>so2</th>\n",
       "      <th>no2</th>\n",
       "    </tr>\n",
       "  </thead>\n",
       "  <tbody>\n",
       "    <tr>\n",
       "      <th>0</th>\n",
       "      <td>1988</td>\n",
       "      <td>24.700000</td>\n",
       "      <td>13.35</td>\n",
       "    </tr>\n",
       "    <tr>\n",
       "      <th>1</th>\n",
       "      <td>1989</td>\n",
       "      <td>21.900000</td>\n",
       "      <td>11.50</td>\n",
       "    </tr>\n",
       "    <tr>\n",
       "      <th>2</th>\n",
       "      <td>1990</td>\n",
       "      <td>17.800000</td>\n",
       "      <td>11.00</td>\n",
       "    </tr>\n",
       "    <tr>\n",
       "      <th>3</th>\n",
       "      <td>1991</td>\n",
       "      <td>16.300000</td>\n",
       "      <td>10.15</td>\n",
       "    </tr>\n",
       "    <tr>\n",
       "      <th>4</th>\n",
       "      <td>1992</td>\n",
       "      <td>8.850000</td>\n",
       "      <td>20.50</td>\n",
       "    </tr>\n",
       "    <tr>\n",
       "      <th>5</th>\n",
       "      <td>1995</td>\n",
       "      <td>10.700000</td>\n",
       "      <td>21.00</td>\n",
       "    </tr>\n",
       "    <tr>\n",
       "      <th>6</th>\n",
       "      <td>1996</td>\n",
       "      <td>20.800000</td>\n",
       "      <td>23.15</td>\n",
       "    </tr>\n",
       "    <tr>\n",
       "      <th>7</th>\n",
       "      <td>1997</td>\n",
       "      <td>27.200000</td>\n",
       "      <td>18.35</td>\n",
       "    </tr>\n",
       "    <tr>\n",
       "      <th>8</th>\n",
       "      <td>1998</td>\n",
       "      <td>36.500000</td>\n",
       "      <td>23.40</td>\n",
       "    </tr>\n",
       "    <tr>\n",
       "      <th>9</th>\n",
       "      <td>1999</td>\n",
       "      <td>36.000000</td>\n",
       "      <td>24.90</td>\n",
       "    </tr>\n",
       "    <tr>\n",
       "      <th>10</th>\n",
       "      <td>2000</td>\n",
       "      <td>14.500000</td>\n",
       "      <td>38.00</td>\n",
       "    </tr>\n",
       "    <tr>\n",
       "      <th>11</th>\n",
       "      <td>2001</td>\n",
       "      <td>9.850000</td>\n",
       "      <td>20.35</td>\n",
       "    </tr>\n",
       "    <tr>\n",
       "      <th>12</th>\n",
       "      <td>2002</td>\n",
       "      <td>12.200000</td>\n",
       "      <td>25.55</td>\n",
       "    </tr>\n",
       "    <tr>\n",
       "      <th>13</th>\n",
       "      <td>2004</td>\n",
       "      <td>7.000000</td>\n",
       "      <td>54.00</td>\n",
       "    </tr>\n",
       "    <tr>\n",
       "      <th>14</th>\n",
       "      <td>2005</td>\n",
       "      <td>7.600000</td>\n",
       "      <td>43.40</td>\n",
       "    </tr>\n",
       "    <tr>\n",
       "      <th>15</th>\n",
       "      <td>2006</td>\n",
       "      <td>15.400000</td>\n",
       "      <td>38.25</td>\n",
       "    </tr>\n",
       "    <tr>\n",
       "      <th>16</th>\n",
       "      <td>2007</td>\n",
       "      <td>16.700000</td>\n",
       "      <td>38.70</td>\n",
       "    </tr>\n",
       "    <tr>\n",
       "      <th>17</th>\n",
       "      <td>2008</td>\n",
       "      <td>14.900000</td>\n",
       "      <td>39.80</td>\n",
       "    </tr>\n",
       "    <tr>\n",
       "      <th>18</th>\n",
       "      <td>2009</td>\n",
       "      <td>15.100000</td>\n",
       "      <td>40.30</td>\n",
       "    </tr>\n",
       "    <tr>\n",
       "      <th>19</th>\n",
       "      <td>2011</td>\n",
       "      <td>14.866667</td>\n",
       "      <td>30.00</td>\n",
       "    </tr>\n",
       "    <tr>\n",
       "      <th>20</th>\n",
       "      <td>2012</td>\n",
       "      <td>14.950000</td>\n",
       "      <td>30.20</td>\n",
       "    </tr>\n",
       "    <tr>\n",
       "      <th>21</th>\n",
       "      <td>2013</td>\n",
       "      <td>14.000000</td>\n",
       "      <td>29.00</td>\n",
       "    </tr>\n",
       "    <tr>\n",
       "      <th>22</th>\n",
       "      <td>2014</td>\n",
       "      <td>13.000000</td>\n",
       "      <td>29.00</td>\n",
       "    </tr>\n",
       "    <tr>\n",
       "      <th>23</th>\n",
       "      <td>2015</td>\n",
       "      <td>6.000000</td>\n",
       "      <td>19.00</td>\n",
       "    </tr>\n",
       "  </tbody>\n",
       "</table>\n",
       "</div>"
      ],
      "text/plain": [
       "    year        so2    no2\n",
       "0   1988  24.700000  13.35\n",
       "1   1989  21.900000  11.50\n",
       "2   1990  17.800000  11.00\n",
       "3   1991  16.300000  10.15\n",
       "4   1992   8.850000  20.50\n",
       "5   1995  10.700000  21.00\n",
       "6   1996  20.800000  23.15\n",
       "7   1997  27.200000  18.35\n",
       "8   1998  36.500000  23.40\n",
       "9   1999  36.000000  24.90\n",
       "10  2000  14.500000  38.00\n",
       "11  2001   9.850000  20.35\n",
       "12  2002  12.200000  25.55\n",
       "13  2004   7.000000  54.00\n",
       "14  2005   7.600000  43.40\n",
       "15  2006  15.400000  38.25\n",
       "16  2007  16.700000  38.70\n",
       "17  2008  14.900000  39.80\n",
       "18  2009  15.100000  40.30\n",
       "19  2011  14.866667  30.00\n",
       "20  2012  14.950000  30.20\n",
       "21  2013  14.000000  29.00\n",
       "22  2014  13.000000  29.00\n",
       "23  2015   6.000000  19.00"
      ]
     },
     "execution_count": 18,
     "metadata": {},
     "output_type": "execute_result"
    }
   ],
   "source": [
    "data"
   ]
  },
  {
   "cell_type": "code",
   "execution_count": 19,
   "metadata": {
    "scrolled": true
   },
   "outputs": [
    {
     "data": {
      "text/plain": [
       "<matplotlib.axes._subplots.AxesSubplot at 0x7f36c7cafa20>"
      ]
     },
     "execution_count": 19,
     "metadata": {},
     "output_type": "execute_result"
    },
    {
     "data": {
      "image/png": "[encoded data removed]",
      "text/plain": [
       "<Figure size 1080x360 with 1 Axes>"
      ]
     },
     "metadata": {
      "needs_background": "light"
     },
     "output_type": "display_data"
    }
   ],
   "source": [
    "plt.figure(figsize=(15,5))\n",
    "plt.xticks(np.arange(1980,2016))\n",
    "sns.lineplot(x='year',y='so2',data=data)"
   ]
  },
  {
   "cell_type": "markdown",
   "metadata": {},
   "source": [
    "From the above plot we can see that in BANGALORE there is an extreme peak in so2 level after 1995 till 1998. Furthur we see a sudden dip in so2 level in 1999 till 2000 which kept furthur gradually decreasing till 2005."
   ]
  },
  {
   "cell_type": "code",
   "execution_count": 20,
   "metadata": {},
   "outputs": [
    {
     "data": {
      "text/plain": [
       "<matplotlib.axes._subplots.AxesSubplot at 0x7f36c7d10fd0>"
      ]
     },
     "execution_count": 20,
     "metadata": {},
     "output_type": "execute_result"
    },
    {
     "data": {
      "image/png": "[encoded data removed]",
      "text/plain": [
       "<Figure size 1080x360 with 1 Axes>"
      ]
     },
     "metadata": {
      "needs_background": "light"
     },
     "output_type": "display_data"
    }
   ],
   "source": [
    "plt.figure(figsize=(15,5))\n",
    "plt.xticks(np.arange(1980,2016))\n",
    "sns.lineplot(x='year',y='no2',data=data)"
   ]
  },
  {
   "cell_type": "markdown",
   "metadata": {},
   "source": [
    "From the above plot we can see that in BANGALORE there is an extreme peak in no2 level after 2001 till 2004 which gradually decreased after 2004."
   ]
  },
  {
   "cell_type": "markdown",
   "metadata": {},
   "source": [
    "---\n",
    "---\n",
    "---\n",
    "---\n",
    "---"
   ]
  },
  {
   "cell_type": "code",
   "execution_count": 21,
   "metadata": {},
   "outputs": [
    {
     "data": {
      "text/html": [
       "<div>\n",
       "<style scoped>\n",
       "    .dataframe tbody tr th:only-of-type {\n",
       "        vertical-align: middle;\n",
       "    }\n",
       "\n",
       "    .dataframe tbody tr th {\n",
       "        vertical-align: top;\n",
       "    }\n",
       "\n",
       "    .dataframe thead th {\n",
       "        text-align: right;\n",
       "    }\n",
       "</style>\n",
       "<table border=\"1\" class=\"dataframe\">\n",
       "  <thead>\n",
       "    <tr style=\"text-align: right;\">\n",
       "      <th></th>\n",
       "      <th>stn_code</th>\n",
       "      <th>sampling_date</th>\n",
       "      <th>state</th>\n",
       "      <th>location</th>\n",
       "      <th>agency</th>\n",
       "      <th>type</th>\n",
       "      <th>so2</th>\n",
       "      <th>no2</th>\n",
       "      <th>rspm</th>\n",
       "      <th>spm</th>\n",
       "      <th>location_monitoring_station</th>\n",
       "      <th>pm2_5</th>\n",
       "      <th>date</th>\n",
       "      <th>year</th>\n",
       "    </tr>\n",
       "  </thead>\n",
       "  <tbody>\n",
       "    <tr>\n",
       "      <th>0</th>\n",
       "      <td>150</td>\n",
       "      <td>February - M021990</td>\n",
       "      <td>Andhra Pradesh</td>\n",
       "      <td>Hyderabad</td>\n",
       "      <td>NaN</td>\n",
       "      <td>Residential</td>\n",
       "      <td>4.8</td>\n",
       "      <td>17.4</td>\n",
       "      <td>NaN</td>\n",
       "      <td>NaN</td>\n",
       "      <td>NaN</td>\n",
       "      <td>NaN</td>\n",
       "      <td>1990-01-02</td>\n",
       "      <td>1990</td>\n",
       "    </tr>\n",
       "    <tr>\n",
       "      <th>1</th>\n",
       "      <td>151</td>\n",
       "      <td>February - M021990</td>\n",
       "      <td>Andhra Pradesh</td>\n",
       "      <td>Hyderabad</td>\n",
       "      <td>NaN</td>\n",
       "      <td>Industrial</td>\n",
       "      <td>3.1</td>\n",
       "      <td>7.0</td>\n",
       "      <td>NaN</td>\n",
       "      <td>NaN</td>\n",
       "      <td>NaN</td>\n",
       "      <td>NaN</td>\n",
       "      <td>1990-01-02</td>\n",
       "      <td>1990</td>\n",
       "    </tr>\n",
       "    <tr>\n",
       "      <th>2</th>\n",
       "      <td>152</td>\n",
       "      <td>February - M021990</td>\n",
       "      <td>Andhra Pradesh</td>\n",
       "      <td>Hyderabad</td>\n",
       "      <td>NaN</td>\n",
       "      <td>Residential</td>\n",
       "      <td>6.2</td>\n",
       "      <td>28.5</td>\n",
       "      <td>NaN</td>\n",
       "      <td>NaN</td>\n",
       "      <td>NaN</td>\n",
       "      <td>NaN</td>\n",
       "      <td>1990-01-02</td>\n",
       "      <td>1990</td>\n",
       "    </tr>\n",
       "    <tr>\n",
       "      <th>3</th>\n",
       "      <td>150</td>\n",
       "      <td>March - M031990</td>\n",
       "      <td>Andhra Pradesh</td>\n",
       "      <td>Hyderabad</td>\n",
       "      <td>NaN</td>\n",
       "      <td>Residential</td>\n",
       "      <td>6.3</td>\n",
       "      <td>14.7</td>\n",
       "      <td>NaN</td>\n",
       "      <td>NaN</td>\n",
       "      <td>NaN</td>\n",
       "      <td>NaN</td>\n",
       "      <td>1990-01-03</td>\n",
       "      <td>1990</td>\n",
       "    </tr>\n",
       "    <tr>\n",
       "      <th>4</th>\n",
       "      <td>151</td>\n",
       "      <td>March - M031990</td>\n",
       "      <td>Andhra Pradesh</td>\n",
       "      <td>Hyderabad</td>\n",
       "      <td>NaN</td>\n",
       "      <td>Industrial</td>\n",
       "      <td>4.7</td>\n",
       "      <td>7.5</td>\n",
       "      <td>NaN</td>\n",
       "      <td>NaN</td>\n",
       "      <td>NaN</td>\n",
       "      <td>NaN</td>\n",
       "      <td>1990-01-03</td>\n",
       "      <td>1990</td>\n",
       "    </tr>\n",
       "  </tbody>\n",
       "</table>\n",
       "</div>"
      ],
      "text/plain": [
       "  stn_code       sampling_date           state   location agency         type  \\\n",
       "0      150  February - M021990  Andhra Pradesh  Hyderabad    NaN  Residential   \n",
       "1      151  February - M021990  Andhra Pradesh  Hyderabad    NaN   Industrial   \n",
       "2      152  February - M021990  Andhra Pradesh  Hyderabad    NaN  Residential   \n",
       "3      150     March - M031990  Andhra Pradesh  Hyderabad    NaN  Residential   \n",
       "4      151     March - M031990  Andhra Pradesh  Hyderabad    NaN   Industrial   \n",
       "\n",
       "   so2   no2  rspm  spm location_monitoring_station  pm2_5       date  year  \n",
       "0  4.8  17.4   NaN  NaN                         NaN    NaN 1990-01-02  1990  \n",
       "1  3.1   7.0   NaN  NaN                         NaN    NaN 1990-01-02  1990  \n",
       "2  6.2  28.5   NaN  NaN                         NaN    NaN 1990-01-02  1990  \n",
       "3  6.3  14.7   NaN  NaN                         NaN    NaN 1990-01-03  1990  \n",
       "4  4.7   7.5   NaN  NaN                         NaN    NaN 1990-01-03  1990  "
      ]
     },
     "execution_count": 21,
     "metadata": {},
     "output_type": "execute_result"
    }
   ],
   "source": [
    "df.head()"
   ]
  },
  {
   "cell_type": "code",
   "execution_count": 22,
   "metadata": {},
   "outputs": [
    {
     "name": "stdout",
     "output_type": "stream",
     "text": [
      "40222\n",
      "237387\n"
     ]
    }
   ],
   "source": [
    "print(df.rspm.isnull().sum())\n",
    "print(df.spm.isnull().sum())"
   ]
  },
  {
   "cell_type": "code",
   "execution_count": 23,
   "metadata": {},
   "outputs": [],
   "source": [
    "df1 = dict(list(df.groupby(['location','type'])))\n",
    "data = pd.DataFrame()\n",
    "for key in df1:\n",
    "    df2 = df1[key].sort_values('date')\n",
    "    df2['rspm'].fillna(method = 'ffill',inplace = True)\n",
    "    df2['spm'].fillna(method = 'ffill',inplace= True)\n",
    "    data = pd.concat([data,df2])"
   ]
  },
  {
   "cell_type": "markdown",
   "metadata": {},
   "source": [
    "In the above code I have done a forward fill for spm and rspm NA data depending on its location and type of location."
   ]
  },
  {
   "cell_type": "code",
   "execution_count": 24,
   "metadata": {},
   "outputs": [],
   "source": [
    "df1 = dict(list(data.groupby(['location','type'])))\n",
    "data1 = pd.DataFrame()\n",
    "for key in df1:\n",
    "    df2 = df1[key].sort_values('date')\n",
    "    df2['rspm'].fillna(method = 'bfill',inplace = True)\n",
    "    df2['spm'].fillna(method = 'bfill',inplace= True)\n",
    "    data1 = pd.concat([data1,df2])"
   ]
  },
  {
   "cell_type": "markdown",
   "metadata": {},
   "source": [
    "Furthurmore, if there are any values which are NA at first position according to location and type, I have done a backward fill for spm and rspm data depending on its location and type of location."
   ]
  },
  {
   "cell_type": "code",
   "execution_count": 25,
   "metadata": {},
   "outputs": [
    {
     "data": {
      "text/html": [
       "<div>\n",
       "<style scoped>\n",
       "    .dataframe tbody tr th:only-of-type {\n",
       "        vertical-align: middle;\n",
       "    }\n",
       "\n",
       "    .dataframe tbody tr th {\n",
       "        vertical-align: top;\n",
       "    }\n",
       "\n",
       "    .dataframe thead th {\n",
       "        text-align: right;\n",
       "    }\n",
       "</style>\n",
       "<table border=\"1\" class=\"dataframe\">\n",
       "  <thead>\n",
       "    <tr style=\"text-align: right;\">\n",
       "      <th></th>\n",
       "      <th>stn_code</th>\n",
       "      <th>sampling_date</th>\n",
       "      <th>state</th>\n",
       "      <th>location</th>\n",
       "      <th>agency</th>\n",
       "      <th>type</th>\n",
       "      <th>so2</th>\n",
       "      <th>no2</th>\n",
       "      <th>rspm</th>\n",
       "      <th>spm</th>\n",
       "      <th>location_monitoring_station</th>\n",
       "      <th>pm2_5</th>\n",
       "      <th>date</th>\n",
       "      <th>year</th>\n",
       "    </tr>\n",
       "  </thead>\n",
       "  <tbody>\n",
       "    <tr>\n",
       "      <th>101655</th>\n",
       "      <td>SAMP</td>\n",
       "      <td>01-06-2015</td>\n",
       "      <td>Gujarat</td>\n",
       "      <td>ANKLESHWAR</td>\n",
       "      <td>Gujarat State Pollution Control Board</td>\n",
       "      <td>RIRUO</td>\n",
       "      <td>24.0</td>\n",
       "      <td>26.0</td>\n",
       "      <td>86.0</td>\n",
       "      <td>NaN</td>\n",
       "      <td>Panoli Ind.Asso. &amp; Emergency Response Centre,P...</td>\n",
       "      <td>34.0</td>\n",
       "      <td>2015-01-06</td>\n",
       "      <td>2015</td>\n",
       "    </tr>\n",
       "    <tr>\n",
       "      <th>101598</th>\n",
       "      <td>SAMP</td>\n",
       "      <td>01-09-2015</td>\n",
       "      <td>Gujarat</td>\n",
       "      <td>ANKLESHWAR</td>\n",
       "      <td>Gujarat State Pollution Control Board</td>\n",
       "      <td>RIRUO</td>\n",
       "      <td>18.0</td>\n",
       "      <td>23.0</td>\n",
       "      <td>84.0</td>\n",
       "      <td>NaN</td>\n",
       "      <td>GIDC OFFICE TERRACE, GIDC ESTATE JHAGADIA,ANKL...</td>\n",
       "      <td>38.0</td>\n",
       "      <td>2015-01-09</td>\n",
       "      <td>2015</td>\n",
       "    </tr>\n",
       "    <tr>\n",
       "      <th>101690</th>\n",
       "      <td>SAMP</td>\n",
       "      <td>01-10-2015</td>\n",
       "      <td>Gujarat</td>\n",
       "      <td>ANKLESHWAR</td>\n",
       "      <td>Gujarat State Pollution Control Board</td>\n",
       "      <td>RIRUO</td>\n",
       "      <td>23.0</td>\n",
       "      <td>26.0</td>\n",
       "      <td>84.0</td>\n",
       "      <td>NaN</td>\n",
       "      <td>Panoli Ind.Asso. &amp; Emergency Response Centre,P...</td>\n",
       "      <td>33.0</td>\n",
       "      <td>2015-01-10</td>\n",
       "      <td>2015</td>\n",
       "    </tr>\n",
       "    <tr>\n",
       "      <th>101543</th>\n",
       "      <td>SAMP</td>\n",
       "      <td>13-01-2015</td>\n",
       "      <td>Gujarat</td>\n",
       "      <td>ANKLESHWAR</td>\n",
       "      <td>Gujarat State Pollution Control Board</td>\n",
       "      <td>RIRUO</td>\n",
       "      <td>12.0</td>\n",
       "      <td>19.0</td>\n",
       "      <td>85.0</td>\n",
       "      <td>NaN</td>\n",
       "      <td>GIDC OFFICE TERRACE, GIDC ESTATE JHAGADIA,ANKL...</td>\n",
       "      <td>29.0</td>\n",
       "      <td>2015-01-13</td>\n",
       "      <td>2015</td>\n",
       "    </tr>\n",
       "    <tr>\n",
       "      <th>101627</th>\n",
       "      <td>SAMP</td>\n",
       "      <td>15-01-2015</td>\n",
       "      <td>Gujarat</td>\n",
       "      <td>ANKLESHWAR</td>\n",
       "      <td>Gujarat State Pollution Control Board</td>\n",
       "      <td>RIRUO</td>\n",
       "      <td>12.0</td>\n",
       "      <td>20.0</td>\n",
       "      <td>76.0</td>\n",
       "      <td>NaN</td>\n",
       "      <td>Panoli Ind.Asso. &amp; Emergency Response Centre,P...</td>\n",
       "      <td>28.0</td>\n",
       "      <td>2015-01-15</td>\n",
       "      <td>2015</td>\n",
       "    </tr>\n",
       "  </tbody>\n",
       "</table>\n",
       "</div>"
      ],
      "text/plain": [
       "       stn_code sampling_date    state    location  \\\n",
       "101655     SAMP    01-06-2015  Gujarat  ANKLESHWAR   \n",
       "101598     SAMP    01-09-2015  Gujarat  ANKLESHWAR   \n",
       "101690     SAMP    01-10-2015  Gujarat  ANKLESHWAR   \n",
       "101543     SAMP    13-01-2015  Gujarat  ANKLESHWAR   \n",
       "101627     SAMP    15-01-2015  Gujarat  ANKLESHWAR   \n",
       "\n",
       "                                       agency   type   so2   no2  rspm  spm  \\\n",
       "101655  Gujarat State Pollution Control Board  RIRUO  24.0  26.0  86.0  NaN   \n",
       "101598  Gujarat State Pollution Control Board  RIRUO  18.0  23.0  84.0  NaN   \n",
       "101690  Gujarat State Pollution Control Board  RIRUO  23.0  26.0  84.0  NaN   \n",
       "101543  Gujarat State Pollution Control Board  RIRUO  12.0  19.0  85.0  NaN   \n",
       "101627  Gujarat State Pollution Control Board  RIRUO  12.0  20.0  76.0  NaN   \n",
       "\n",
       "                              location_monitoring_station  pm2_5       date  \\\n",
       "101655  Panoli Ind.Asso. & Emergency Response Centre,P...   34.0 2015-01-06   \n",
       "101598  GIDC OFFICE TERRACE, GIDC ESTATE JHAGADIA,ANKL...   38.0 2015-01-09   \n",
       "101690  Panoli Ind.Asso. & Emergency Response Centre,P...   33.0 2015-01-10   \n",
       "101543  GIDC OFFICE TERRACE, GIDC ESTATE JHAGADIA,ANKL...   29.0 2015-01-13   \n",
       "101627  Panoli Ind.Asso. & Emergency Response Centre,P...   28.0 2015-01-15   \n",
       "\n",
       "        year  \n",
       "101655  2015  \n",
       "101598  2015  \n",
       "101690  2015  \n",
       "101543  2015  \n",
       "101627  2015  "
      ]
     },
     "execution_count": 25,
     "metadata": {},
     "output_type": "execute_result"
    }
   ],
   "source": [
    "data1.head()"
   ]
  },
  {
   "cell_type": "code",
   "execution_count": 26,
   "metadata": {},
   "outputs": [
    {
     "name": "stdout",
     "output_type": "stream",
     "text": [
      "4102\n",
      "47909\n"
     ]
    }
   ],
   "source": [
    "print(data1.rspm.isnull().sum())\n",
    "print(data1.spm.isnull().sum())"
   ]
  },
  {
   "cell_type": "code",
   "execution_count": 27,
   "metadata": {},
   "outputs": [],
   "source": [
    "df1 = dict(list(data1.groupby(['state','type'])))\n",
    "data2 = pd.DataFrame()\n",
    "for key in df1:\n",
    "    df2 = df1[key]\n",
    "    df2['rspm'].fillna(df2['rspm'].median(),inplace = True)\n",
    "    df2['spm'].fillna(df2['spm'].median(),inplace= True)\n",
    "    data2 = pd.concat([data2,df2])"
   ]
  },
  {
   "cell_type": "markdown",
   "metadata": {},
   "source": [
    "Still we can see that there seem to be some locations with location types with all values as NA. Here the backward or forward fill won't work. So I have replaced such values with median grouped by state and location type."
   ]
  },
  {
   "cell_type": "code",
   "execution_count": 28,
   "metadata": {},
   "outputs": [
    {
     "name": "stdout",
     "output_type": "stream",
     "text": [
      "182\n",
      "1972\n"
     ]
    }
   ],
   "source": [
    "print(data2.rspm.isnull().sum())\n",
    "print(data2.spm.isnull().sum())"
   ]
  },
  {
   "cell_type": "code",
   "execution_count": 29,
   "metadata": {},
   "outputs": [
    {
     "data": {
      "text/html": [
       "<div>\n",
       "<style scoped>\n",
       "    .dataframe tbody tr th:only-of-type {\n",
       "        vertical-align: middle;\n",
       "    }\n",
       "\n",
       "    .dataframe tbody tr th {\n",
       "        vertical-align: top;\n",
       "    }\n",
       "\n",
       "    .dataframe thead th {\n",
       "        text-align: right;\n",
       "    }\n",
       "</style>\n",
       "<table border=\"1\" class=\"dataframe\">\n",
       "  <thead>\n",
       "    <tr style=\"text-align: right;\">\n",
       "      <th></th>\n",
       "      <th>stn_code</th>\n",
       "      <th>sampling_date</th>\n",
       "      <th>state</th>\n",
       "      <th>location</th>\n",
       "      <th>agency</th>\n",
       "      <th>type</th>\n",
       "      <th>so2</th>\n",
       "      <th>no2</th>\n",
       "      <th>rspm</th>\n",
       "      <th>spm</th>\n",
       "      <th>location_monitoring_station</th>\n",
       "      <th>pm2_5</th>\n",
       "      <th>date</th>\n",
       "      <th>year</th>\n",
       "    </tr>\n",
       "  </thead>\n",
       "  <tbody>\n",
       "    <tr>\n",
       "      <th>1</th>\n",
       "      <td>151</td>\n",
       "      <td>February - M021990</td>\n",
       "      <td>Andhra Pradesh</td>\n",
       "      <td>Hyderabad</td>\n",
       "      <td>NaN</td>\n",
       "      <td>Industrial</td>\n",
       "      <td>3.1</td>\n",
       "      <td>7.0</td>\n",
       "      <td>90.3</td>\n",
       "      <td>82.000000</td>\n",
       "      <td>NaN</td>\n",
       "      <td>NaN</td>\n",
       "      <td>1990-01-02</td>\n",
       "      <td>1990</td>\n",
       "    </tr>\n",
       "    <tr>\n",
       "      <th>4</th>\n",
       "      <td>151</td>\n",
       "      <td>March - M031990</td>\n",
       "      <td>Andhra Pradesh</td>\n",
       "      <td>Hyderabad</td>\n",
       "      <td>NaN</td>\n",
       "      <td>Industrial</td>\n",
       "      <td>4.7</td>\n",
       "      <td>7.5</td>\n",
       "      <td>90.3</td>\n",
       "      <td>82.000000</td>\n",
       "      <td>NaN</td>\n",
       "      <td>NaN</td>\n",
       "      <td>1990-01-03</td>\n",
       "      <td>1990</td>\n",
       "    </tr>\n",
       "    <tr>\n",
       "      <th>7</th>\n",
       "      <td>151</td>\n",
       "      <td>April - M041990</td>\n",
       "      <td>Andhra Pradesh</td>\n",
       "      <td>Hyderabad</td>\n",
       "      <td>NaN</td>\n",
       "      <td>Industrial</td>\n",
       "      <td>4.7</td>\n",
       "      <td>8.7</td>\n",
       "      <td>90.3</td>\n",
       "      <td>82.000000</td>\n",
       "      <td>NaN</td>\n",
       "      <td>NaN</td>\n",
       "      <td>1990-01-04</td>\n",
       "      <td>1990</td>\n",
       "    </tr>\n",
       "    <tr>\n",
       "      <th>9</th>\n",
       "      <td>151</td>\n",
       "      <td>May - M051990</td>\n",
       "      <td>Andhra Pradesh</td>\n",
       "      <td>Hyderabad</td>\n",
       "      <td>NaN</td>\n",
       "      <td>Industrial</td>\n",
       "      <td>4.0</td>\n",
       "      <td>8.9</td>\n",
       "      <td>90.3</td>\n",
       "      <td>82.000000</td>\n",
       "      <td>NaN</td>\n",
       "      <td>NaN</td>\n",
       "      <td>1990-01-05</td>\n",
       "      <td>1990</td>\n",
       "    </tr>\n",
       "    <tr>\n",
       "      <th>12</th>\n",
       "      <td>151</td>\n",
       "      <td>June - M061990</td>\n",
       "      <td>Andhra Pradesh</td>\n",
       "      <td>Hyderabad</td>\n",
       "      <td>NaN</td>\n",
       "      <td>Industrial</td>\n",
       "      <td>5.6</td>\n",
       "      <td>11.8</td>\n",
       "      <td>90.3</td>\n",
       "      <td>82.000000</td>\n",
       "      <td>NaN</td>\n",
       "      <td>NaN</td>\n",
       "      <td>1990-01-06</td>\n",
       "      <td>1990</td>\n",
       "    </tr>\n",
       "    <tr>\n",
       "      <th>...</th>\n",
       "      <td>...</td>\n",
       "      <td>...</td>\n",
       "      <td>...</td>\n",
       "      <td>...</td>\n",
       "      <td>...</td>\n",
       "      <td>...</td>\n",
       "      <td>...</td>\n",
       "      <td>...</td>\n",
       "      <td>...</td>\n",
       "      <td>...</td>\n",
       "      <td>...</td>\n",
       "      <td>...</td>\n",
       "      <td>...</td>\n",
       "      <td>...</td>\n",
       "    </tr>\n",
       "    <tr>\n",
       "      <th>434695</th>\n",
       "      <td>650</td>\n",
       "      <td>12-12-2015</td>\n",
       "      <td>West Bengal</td>\n",
       "      <td>South Suburban</td>\n",
       "      <td>West Bengal State Pollution Control Board</td>\n",
       "      <td>Residential</td>\n",
       "      <td>2.0</td>\n",
       "      <td>44.0</td>\n",
       "      <td>93.0</td>\n",
       "      <td>577.666667</td>\n",
       "      <td>Baruipur, South Suburban</td>\n",
       "      <td>NaN</td>\n",
       "      <td>2015-12-12</td>\n",
       "      <td>2015</td>\n",
       "    </tr>\n",
       "    <tr>\n",
       "      <th>434696</th>\n",
       "      <td>650</td>\n",
       "      <td>14-12-2015</td>\n",
       "      <td>West Bengal</td>\n",
       "      <td>South Suburban</td>\n",
       "      <td>West Bengal State Pollution Control Board</td>\n",
       "      <td>Residential</td>\n",
       "      <td>2.0</td>\n",
       "      <td>47.0</td>\n",
       "      <td>145.0</td>\n",
       "      <td>577.666667</td>\n",
       "      <td>Baruipur, South Suburban</td>\n",
       "      <td>NaN</td>\n",
       "      <td>2015-12-14</td>\n",
       "      <td>2015</td>\n",
       "    </tr>\n",
       "    <tr>\n",
       "      <th>434697</th>\n",
       "      <td>650</td>\n",
       "      <td>18-12-2015</td>\n",
       "      <td>West Bengal</td>\n",
       "      <td>South Suburban</td>\n",
       "      <td>West Bengal State Pollution Control Board</td>\n",
       "      <td>Residential</td>\n",
       "      <td>4.0</td>\n",
       "      <td>55.0</td>\n",
       "      <td>208.0</td>\n",
       "      <td>577.666667</td>\n",
       "      <td>Baruipur, South Suburban</td>\n",
       "      <td>NaN</td>\n",
       "      <td>2015-12-18</td>\n",
       "      <td>2015</td>\n",
       "    </tr>\n",
       "    <tr>\n",
       "      <th>434698</th>\n",
       "      <td>650</td>\n",
       "      <td>20-12-2015</td>\n",
       "      <td>West Bengal</td>\n",
       "      <td>South Suburban</td>\n",
       "      <td>West Bengal State Pollution Control Board</td>\n",
       "      <td>Residential</td>\n",
       "      <td>3.0</td>\n",
       "      <td>49.0</td>\n",
       "      <td>206.0</td>\n",
       "      <td>577.666667</td>\n",
       "      <td>Baruipur, South Suburban</td>\n",
       "      <td>NaN</td>\n",
       "      <td>2015-12-20</td>\n",
       "      <td>2015</td>\n",
       "    </tr>\n",
       "    <tr>\n",
       "      <th>434699</th>\n",
       "      <td>650</td>\n",
       "      <td>26-12-2015</td>\n",
       "      <td>West Bengal</td>\n",
       "      <td>South Suburban</td>\n",
       "      <td>West Bengal State Pollution Control Board</td>\n",
       "      <td>Residential</td>\n",
       "      <td>3.0</td>\n",
       "      <td>50.0</td>\n",
       "      <td>173.0</td>\n",
       "      <td>577.666667</td>\n",
       "      <td>Baruipur, South Suburban</td>\n",
       "      <td>NaN</td>\n",
       "      <td>2015-12-26</td>\n",
       "      <td>2015</td>\n",
       "    </tr>\n",
       "  </tbody>\n",
       "</table>\n",
       "<p>430349 rows × 14 columns</p>\n",
       "</div>"
      ],
      "text/plain": [
       "       stn_code       sampling_date           state        location  \\\n",
       "1           151  February - M021990  Andhra Pradesh       Hyderabad   \n",
       "4           151     March - M031990  Andhra Pradesh       Hyderabad   \n",
       "7           151     April - M041990  Andhra Pradesh       Hyderabad   \n",
       "9           151       May - M051990  Andhra Pradesh       Hyderabad   \n",
       "12          151      June - M061990  Andhra Pradesh       Hyderabad   \n",
       "...         ...                 ...             ...             ...   \n",
       "434695      650          12-12-2015     West Bengal  South Suburban   \n",
       "434696      650          14-12-2015     West Bengal  South Suburban   \n",
       "434697      650          18-12-2015     West Bengal  South Suburban   \n",
       "434698      650          20-12-2015     West Bengal  South Suburban   \n",
       "434699      650          26-12-2015     West Bengal  South Suburban   \n",
       "\n",
       "                                           agency         type  so2   no2  \\\n",
       "1                                             NaN   Industrial  3.1   7.0   \n",
       "4                                             NaN   Industrial  4.7   7.5   \n",
       "7                                             NaN   Industrial  4.7   8.7   \n",
       "9                                             NaN   Industrial  4.0   8.9   \n",
       "12                                            NaN   Industrial  5.6  11.8   \n",
       "...                                           ...          ...  ...   ...   \n",
       "434695  West Bengal State Pollution Control Board  Residential  2.0  44.0   \n",
       "434696  West Bengal State Pollution Control Board  Residential  2.0  47.0   \n",
       "434697  West Bengal State Pollution Control Board  Residential  4.0  55.0   \n",
       "434698  West Bengal State Pollution Control Board  Residential  3.0  49.0   \n",
       "434699  West Bengal State Pollution Control Board  Residential  3.0  50.0   \n",
       "\n",
       "         rspm         spm location_monitoring_station  pm2_5       date  year  \n",
       "1        90.3   82.000000                         NaN    NaN 1990-01-02  1990  \n",
       "4        90.3   82.000000                         NaN    NaN 1990-01-03  1990  \n",
       "7        90.3   82.000000                         NaN    NaN 1990-01-04  1990  \n",
       "9        90.3   82.000000                         NaN    NaN 1990-01-05  1990  \n",
       "12       90.3   82.000000                         NaN    NaN 1990-01-06  1990  \n",
       "...       ...         ...                         ...    ...        ...   ...  \n",
       "434695   93.0  577.666667    Baruipur, South Suburban    NaN 2015-12-12  2015  \n",
       "434696  145.0  577.666667    Baruipur, South Suburban    NaN 2015-12-14  2015  \n",
       "434697  208.0  577.666667    Baruipur, South Suburban    NaN 2015-12-18  2015  \n",
       "434698  206.0  577.666667    Baruipur, South Suburban    NaN 2015-12-20  2015  \n",
       "434699  173.0  577.666667    Baruipur, South Suburban    NaN 2015-12-26  2015  \n",
       "\n",
       "[430349 rows x 14 columns]"
      ]
     },
     "execution_count": 29,
     "metadata": {},
     "output_type": "execute_result"
    }
   ],
   "source": [
    "data2"
   ]
  },
  {
   "cell_type": "code",
   "execution_count": 30,
   "metadata": {},
   "outputs": [],
   "source": [
    "df1 = dict(list(data2.groupby('type')))\n",
    "data3 = pd.DataFrame()\n",
    "for key in df1:\n",
    "    df2 = df1[key]\n",
    "    df2['rspm'].fillna(df2['rspm'].median(),inplace = True)\n",
    "    df2['spm'].fillna(df2['spm'].median(),inplace= True)\n",
    "    data3 = pd.concat([data3,df2])"
   ]
  },
  {
   "cell_type": "markdown",
   "metadata": {},
   "source": [
    "Furthur any remaining NA values for rspm and spm have been replaced by medians grouped by type."
   ]
  },
  {
   "cell_type": "code",
   "execution_count": 31,
   "metadata": {},
   "outputs": [
    {
     "data": {
      "text/html": [
       "<div>\n",
       "<style scoped>\n",
       "    .dataframe tbody tr th:only-of-type {\n",
       "        vertical-align: middle;\n",
       "    }\n",
       "\n",
       "    .dataframe tbody tr th {\n",
       "        vertical-align: top;\n",
       "    }\n",
       "\n",
       "    .dataframe thead th {\n",
       "        text-align: right;\n",
       "    }\n",
       "</style>\n",
       "<table border=\"1\" class=\"dataframe\">\n",
       "  <thead>\n",
       "    <tr style=\"text-align: right;\">\n",
       "      <th></th>\n",
       "      <th>stn_code</th>\n",
       "      <th>sampling_date</th>\n",
       "      <th>state</th>\n",
       "      <th>location</th>\n",
       "      <th>agency</th>\n",
       "      <th>type</th>\n",
       "      <th>so2</th>\n",
       "      <th>no2</th>\n",
       "      <th>rspm</th>\n",
       "      <th>spm</th>\n",
       "      <th>location_monitoring_station</th>\n",
       "      <th>pm2_5</th>\n",
       "      <th>date</th>\n",
       "      <th>year</th>\n",
       "    </tr>\n",
       "  </thead>\n",
       "  <tbody>\n",
       "    <tr>\n",
       "      <th>1</th>\n",
       "      <td>151</td>\n",
       "      <td>February - M021990</td>\n",
       "      <td>Andhra Pradesh</td>\n",
       "      <td>Hyderabad</td>\n",
       "      <td>NaN</td>\n",
       "      <td>Industrial</td>\n",
       "      <td>3.1</td>\n",
       "      <td>7.0</td>\n",
       "      <td>90.3</td>\n",
       "      <td>82.0</td>\n",
       "      <td>NaN</td>\n",
       "      <td>NaN</td>\n",
       "      <td>1990-01-02</td>\n",
       "      <td>1990</td>\n",
       "    </tr>\n",
       "    <tr>\n",
       "      <th>4</th>\n",
       "      <td>151</td>\n",
       "      <td>March - M031990</td>\n",
       "      <td>Andhra Pradesh</td>\n",
       "      <td>Hyderabad</td>\n",
       "      <td>NaN</td>\n",
       "      <td>Industrial</td>\n",
       "      <td>4.7</td>\n",
       "      <td>7.5</td>\n",
       "      <td>90.3</td>\n",
       "      <td>82.0</td>\n",
       "      <td>NaN</td>\n",
       "      <td>NaN</td>\n",
       "      <td>1990-01-03</td>\n",
       "      <td>1990</td>\n",
       "    </tr>\n",
       "    <tr>\n",
       "      <th>7</th>\n",
       "      <td>151</td>\n",
       "      <td>April - M041990</td>\n",
       "      <td>Andhra Pradesh</td>\n",
       "      <td>Hyderabad</td>\n",
       "      <td>NaN</td>\n",
       "      <td>Industrial</td>\n",
       "      <td>4.7</td>\n",
       "      <td>8.7</td>\n",
       "      <td>90.3</td>\n",
       "      <td>82.0</td>\n",
       "      <td>NaN</td>\n",
       "      <td>NaN</td>\n",
       "      <td>1990-01-04</td>\n",
       "      <td>1990</td>\n",
       "    </tr>\n",
       "    <tr>\n",
       "      <th>9</th>\n",
       "      <td>151</td>\n",
       "      <td>May - M051990</td>\n",
       "      <td>Andhra Pradesh</td>\n",
       "      <td>Hyderabad</td>\n",
       "      <td>NaN</td>\n",
       "      <td>Industrial</td>\n",
       "      <td>4.0</td>\n",
       "      <td>8.9</td>\n",
       "      <td>90.3</td>\n",
       "      <td>82.0</td>\n",
       "      <td>NaN</td>\n",
       "      <td>NaN</td>\n",
       "      <td>1990-01-05</td>\n",
       "      <td>1990</td>\n",
       "    </tr>\n",
       "    <tr>\n",
       "      <th>12</th>\n",
       "      <td>151</td>\n",
       "      <td>June - M061990</td>\n",
       "      <td>Andhra Pradesh</td>\n",
       "      <td>Hyderabad</td>\n",
       "      <td>NaN</td>\n",
       "      <td>Industrial</td>\n",
       "      <td>5.6</td>\n",
       "      <td>11.8</td>\n",
       "      <td>90.3</td>\n",
       "      <td>82.0</td>\n",
       "      <td>NaN</td>\n",
       "      <td>NaN</td>\n",
       "      <td>1990-01-06</td>\n",
       "      <td>1990</td>\n",
       "    </tr>\n",
       "    <tr>\n",
       "      <th>...</th>\n",
       "      <td>...</td>\n",
       "      <td>...</td>\n",
       "      <td>...</td>\n",
       "      <td>...</td>\n",
       "      <td>...</td>\n",
       "      <td>...</td>\n",
       "      <td>...</td>\n",
       "      <td>...</td>\n",
       "      <td>...</td>\n",
       "      <td>...</td>\n",
       "      <td>...</td>\n",
       "      <td>...</td>\n",
       "      <td>...</td>\n",
       "      <td>...</td>\n",
       "    </tr>\n",
       "    <tr>\n",
       "      <th>408954</th>\n",
       "      <td>416</td>\n",
       "      <td>29-12-2015</td>\n",
       "      <td>Uttar Pradesh</td>\n",
       "      <td>Agra</td>\n",
       "      <td>Central Pollution Control Board</td>\n",
       "      <td>Sensitive</td>\n",
       "      <td>2.0</td>\n",
       "      <td>15.0</td>\n",
       "      <td>271.0</td>\n",
       "      <td>448.0</td>\n",
       "      <td>Etmad-uddaulah, Agra</td>\n",
       "      <td>NaN</td>\n",
       "      <td>2015-12-29</td>\n",
       "      <td>2015</td>\n",
       "    </tr>\n",
       "    <tr>\n",
       "      <th>406660</th>\n",
       "      <td>1</td>\n",
       "      <td>30-12-2015</td>\n",
       "      <td>Uttar Pradesh</td>\n",
       "      <td>Agra</td>\n",
       "      <td>Central Pollution Control Board</td>\n",
       "      <td>Sensitive</td>\n",
       "      <td>2.0</td>\n",
       "      <td>34.0</td>\n",
       "      <td>352.0</td>\n",
       "      <td>448.0</td>\n",
       "      <td>Taj Mahal, Agra</td>\n",
       "      <td>NaN</td>\n",
       "      <td>2015-12-30</td>\n",
       "      <td>2015</td>\n",
       "    </tr>\n",
       "    <tr>\n",
       "      <th>408838</th>\n",
       "      <td>415</td>\n",
       "      <td>30-12-2015</td>\n",
       "      <td>Uttar Pradesh</td>\n",
       "      <td>Agra</td>\n",
       "      <td>Central Pollution Control Board</td>\n",
       "      <td>Sensitive</td>\n",
       "      <td>4.0</td>\n",
       "      <td>36.0</td>\n",
       "      <td>427.0</td>\n",
       "      <td>448.0</td>\n",
       "      <td>DIC Nunhai, Agra</td>\n",
       "      <td>NaN</td>\n",
       "      <td>2015-12-30</td>\n",
       "      <td>2015</td>\n",
       "    </tr>\n",
       "    <tr>\n",
       "      <th>406661</th>\n",
       "      <td>1</td>\n",
       "      <td>31-12-2015</td>\n",
       "      <td>Uttar Pradesh</td>\n",
       "      <td>Agra</td>\n",
       "      <td>Central Pollution Control Board</td>\n",
       "      <td>Sensitive</td>\n",
       "      <td>2.0</td>\n",
       "      <td>31.0</td>\n",
       "      <td>363.0</td>\n",
       "      <td>448.0</td>\n",
       "      <td>Taj Mahal, Agra</td>\n",
       "      <td>NaN</td>\n",
       "      <td>2015-12-31</td>\n",
       "      <td>2015</td>\n",
       "    </tr>\n",
       "    <tr>\n",
       "      <th>409070</th>\n",
       "      <td>417</td>\n",
       "      <td>31-12-2015</td>\n",
       "      <td>Uttar Pradesh</td>\n",
       "      <td>Agra</td>\n",
       "      <td>Central Pollution Control Board</td>\n",
       "      <td>Sensitive</td>\n",
       "      <td>2.0</td>\n",
       "      <td>26.0</td>\n",
       "      <td>338.0</td>\n",
       "      <td>448.0</td>\n",
       "      <td>Rambagh, Agra</td>\n",
       "      <td>NaN</td>\n",
       "      <td>2015-12-31</td>\n",
       "      <td>2015</td>\n",
       "    </tr>\n",
       "  </tbody>\n",
       "</table>\n",
       "<p>430349 rows × 14 columns</p>\n",
       "</div>"
      ],
      "text/plain": [
       "       stn_code       sampling_date           state   location  \\\n",
       "1           151  February - M021990  Andhra Pradesh  Hyderabad   \n",
       "4           151     March - M031990  Andhra Pradesh  Hyderabad   \n",
       "7           151     April - M041990  Andhra Pradesh  Hyderabad   \n",
       "9           151       May - M051990  Andhra Pradesh  Hyderabad   \n",
       "12          151      June - M061990  Andhra Pradesh  Hyderabad   \n",
       "...         ...                 ...             ...        ...   \n",
       "408954      416          29-12-2015   Uttar Pradesh       Agra   \n",
       "406660        1          30-12-2015   Uttar Pradesh       Agra   \n",
       "408838      415          30-12-2015   Uttar Pradesh       Agra   \n",
       "406661        1          31-12-2015   Uttar Pradesh       Agra   \n",
       "409070      417          31-12-2015   Uttar Pradesh       Agra   \n",
       "\n",
       "                                 agency        type  so2   no2   rspm    spm  \\\n",
       "1                                   NaN  Industrial  3.1   7.0   90.3   82.0   \n",
       "4                                   NaN  Industrial  4.7   7.5   90.3   82.0   \n",
       "7                                   NaN  Industrial  4.7   8.7   90.3   82.0   \n",
       "9                                   NaN  Industrial  4.0   8.9   90.3   82.0   \n",
       "12                                  NaN  Industrial  5.6  11.8   90.3   82.0   \n",
       "...                                 ...         ...  ...   ...    ...    ...   \n",
       "408954  Central Pollution Control Board   Sensitive  2.0  15.0  271.0  448.0   \n",
       "406660  Central Pollution Control Board   Sensitive  2.0  34.0  352.0  448.0   \n",
       "408838  Central Pollution Control Board   Sensitive  4.0  36.0  427.0  448.0   \n",
       "406661  Central Pollution Control Board   Sensitive  2.0  31.0  363.0  448.0   \n",
       "409070  Central Pollution Control Board   Sensitive  2.0  26.0  338.0  448.0   \n",
       "\n",
       "       location_monitoring_station  pm2_5       date  year  \n",
       "1                              NaN    NaN 1990-01-02  1990  \n",
       "4                              NaN    NaN 1990-01-03  1990  \n",
       "7                              NaN    NaN 1990-01-04  1990  \n",
       "9                              NaN    NaN 1990-01-05  1990  \n",
       "12                             NaN    NaN 1990-01-06  1990  \n",
       "...                            ...    ...        ...   ...  \n",
       "408954        Etmad-uddaulah, Agra    NaN 2015-12-29  2015  \n",
       "406660             Taj Mahal, Agra    NaN 2015-12-30  2015  \n",
       "408838            DIC Nunhai, Agra    NaN 2015-12-30  2015  \n",
       "406661             Taj Mahal, Agra    NaN 2015-12-31  2015  \n",
       "409070               Rambagh, Agra    NaN 2015-12-31  2015  \n",
       "\n",
       "[430349 rows x 14 columns]"
      ]
     },
     "execution_count": 31,
     "metadata": {},
     "output_type": "execute_result"
    }
   ],
   "source": [
    "data3"
   ]
  },
  {
   "cell_type": "code",
   "execution_count": 32,
   "metadata": {},
   "outputs": [
    {
     "name": "stdout",
     "output_type": "stream",
     "text": [
      "0\n",
      "1304\n"
     ]
    }
   ],
   "source": [
    "print(data3.rspm.isnull().sum())\n",
    "print(data3.spm.isnull().sum())"
   ]
  },
  {
   "cell_type": "code",
   "execution_count": 33,
   "metadata": {},
   "outputs": [
    {
     "data": {
      "text/plain": [
       "Residential    265963\n",
       "Industrial     148071\n",
       "Sensitive       15011\n",
       "RIRUO            1304\n",
       "Name: type, dtype: int64"
      ]
     },
     "execution_count": 33,
     "metadata": {},
     "output_type": "execute_result"
    }
   ],
   "source": [
    "data3['type'].value_counts()"
   ]
  },
  {
   "cell_type": "markdown",
   "metadata": {},
   "source": [
    "Still there is 'RIRUO' location type for which there exists NA values for spm."
   ]
  },
  {
   "cell_type": "code",
   "execution_count": 34,
   "metadata": {},
   "outputs": [],
   "source": [
    "data3.reset_index(inplace=True)"
   ]
  },
  {
   "cell_type": "code",
   "execution_count": 35,
   "metadata": {},
   "outputs": [],
   "source": [
    "data3.drop(columns=['index','stn_code','sampling_date','agency','location_monitoring_station'],inplace = True)"
   ]
  },
  {
   "cell_type": "markdown",
   "metadata": {},
   "source": [
    "The above columns don't seem to be very useful for any furthur analysis so I prefer to drop these colums to concentrate more on the essential features."
   ]
  },
  {
   "cell_type": "code",
   "execution_count": 36,
   "metadata": {},
   "outputs": [
    {
     "data": {
      "text/html": [
       "<div>\n",
       "<style scoped>\n",
       "    .dataframe tbody tr th:only-of-type {\n",
       "        vertical-align: middle;\n",
       "    }\n",
       "\n",
       "    .dataframe tbody tr th {\n",
       "        vertical-align: top;\n",
       "    }\n",
       "\n",
       "    .dataframe thead th {\n",
       "        text-align: right;\n",
       "    }\n",
       "</style>\n",
       "<table border=\"1\" class=\"dataframe\">\n",
       "  <thead>\n",
       "    <tr style=\"text-align: right;\">\n",
       "      <th></th>\n",
       "      <th>state</th>\n",
       "      <th>location</th>\n",
       "      <th>type</th>\n",
       "      <th>so2</th>\n",
       "      <th>no2</th>\n",
       "      <th>rspm</th>\n",
       "      <th>spm</th>\n",
       "      <th>pm2_5</th>\n",
       "      <th>date</th>\n",
       "      <th>year</th>\n",
       "    </tr>\n",
       "  </thead>\n",
       "  <tbody>\n",
       "    <tr>\n",
       "      <th>0</th>\n",
       "      <td>Andhra Pradesh</td>\n",
       "      <td>Hyderabad</td>\n",
       "      <td>Industrial</td>\n",
       "      <td>3.1</td>\n",
       "      <td>7.0</td>\n",
       "      <td>90.3</td>\n",
       "      <td>82.0</td>\n",
       "      <td>NaN</td>\n",
       "      <td>1990-01-02</td>\n",
       "      <td>1990</td>\n",
       "    </tr>\n",
       "    <tr>\n",
       "      <th>1</th>\n",
       "      <td>Andhra Pradesh</td>\n",
       "      <td>Hyderabad</td>\n",
       "      <td>Industrial</td>\n",
       "      <td>4.7</td>\n",
       "      <td>7.5</td>\n",
       "      <td>90.3</td>\n",
       "      <td>82.0</td>\n",
       "      <td>NaN</td>\n",
       "      <td>1990-01-03</td>\n",
       "      <td>1990</td>\n",
       "    </tr>\n",
       "    <tr>\n",
       "      <th>2</th>\n",
       "      <td>Andhra Pradesh</td>\n",
       "      <td>Hyderabad</td>\n",
       "      <td>Industrial</td>\n",
       "      <td>4.7</td>\n",
       "      <td>8.7</td>\n",
       "      <td>90.3</td>\n",
       "      <td>82.0</td>\n",
       "      <td>NaN</td>\n",
       "      <td>1990-01-04</td>\n",
       "      <td>1990</td>\n",
       "    </tr>\n",
       "    <tr>\n",
       "      <th>3</th>\n",
       "      <td>Andhra Pradesh</td>\n",
       "      <td>Hyderabad</td>\n",
       "      <td>Industrial</td>\n",
       "      <td>4.0</td>\n",
       "      <td>8.9</td>\n",
       "      <td>90.3</td>\n",
       "      <td>82.0</td>\n",
       "      <td>NaN</td>\n",
       "      <td>1990-01-05</td>\n",
       "      <td>1990</td>\n",
       "    </tr>\n",
       "    <tr>\n",
       "      <th>4</th>\n",
       "      <td>Andhra Pradesh</td>\n",
       "      <td>Hyderabad</td>\n",
       "      <td>Industrial</td>\n",
       "      <td>5.6</td>\n",
       "      <td>11.8</td>\n",
       "      <td>90.3</td>\n",
       "      <td>82.0</td>\n",
       "      <td>NaN</td>\n",
       "      <td>1990-01-06</td>\n",
       "      <td>1990</td>\n",
       "    </tr>\n",
       "  </tbody>\n",
       "</table>\n",
       "</div>"
      ],
      "text/plain": [
       "            state   location        type  so2   no2  rspm   spm  pm2_5  \\\n",
       "0  Andhra Pradesh  Hyderabad  Industrial  3.1   7.0  90.3  82.0    NaN   \n",
       "1  Andhra Pradesh  Hyderabad  Industrial  4.7   7.5  90.3  82.0    NaN   \n",
       "2  Andhra Pradesh  Hyderabad  Industrial  4.7   8.7  90.3  82.0    NaN   \n",
       "3  Andhra Pradesh  Hyderabad  Industrial  4.0   8.9  90.3  82.0    NaN   \n",
       "4  Andhra Pradesh  Hyderabad  Industrial  5.6  11.8  90.3  82.0    NaN   \n",
       "\n",
       "        date  year  \n",
       "0 1990-01-02  1990  \n",
       "1 1990-01-03  1990  \n",
       "2 1990-01-04  1990  \n",
       "3 1990-01-05  1990  \n",
       "4 1990-01-06  1990  "
      ]
     },
     "execution_count": 36,
     "metadata": {},
     "output_type": "execute_result"
    }
   ],
   "source": [
    "data3.head()"
   ]
  },
  {
   "cell_type": "code",
   "execution_count": 37,
   "metadata": {},
   "outputs": [
    {
     "data": {
      "text/plain": [
       "<matplotlib.axes._subplots.AxesSubplot at 0x7f36c0c98438>"
      ]
     },
     "execution_count": 37,
     "metadata": {},
     "output_type": "execute_result"
    },
    {
     "data": {
      "image/png": "[encoded data removed]",
      "text/plain": [
       "<Figure size 1224x360 with 1 Axes>"
      ]
     },
     "metadata": {
      "needs_background": "light"
     },
     "output_type": "display_data"
    }
   ],
   "source": [
    "data3.groupby('state').median()['rspm'].sort_values(ascending = False).plot(kind = 'bar', figsize = (17,5))"
   ]
  },
  {
   "cell_type": "code",
   "execution_count": 38,
   "metadata": {},
   "outputs": [
    {
     "data": {
      "text/plain": [
       "<matplotlib.axes._subplots.AxesSubplot at 0x7f36c0a620f0>"
      ]
     },
     "execution_count": 38,
     "metadata": {},
     "output_type": "execute_result"
    },
    {
     "data": {
      "image/png": "[encoded data removed]",
      "text/plain": [
       "<Figure size 1224x360 with 1 Axes>"
      ]
     },
     "metadata": {
      "needs_background": "light"
     },
     "output_type": "display_data"
    }
   ],
   "source": [
    "data3.groupby('location').median()['rspm'].sort_values(ascending = False).head(50).plot(kind = 'bar', figsize = (17,5))"
   ]
  },
  {
   "cell_type": "markdown",
   "metadata": {},
   "source": [
    "It quite evident from the above plots that the rspm levels are high for the following cities from Uttar pradesh and Punjab: \n",
    "\n",
    "UP : Ghaziabad, Allahabad, Bareilly, Mathura, Khurja, Lucknow, Kanpur\n",
    "\n",
    "Punjab : Ludhiana, Khanna, Amritsar, Bhatinda\n",
    "\n",
    "We can verify the same with the following article from indian express in september 2008 : http://archive.indianexpress.com/news/khurja-state-s-most-polluted-town-lucknow-comes-second/360739/"
   ]
  },
  {
   "cell_type": "code",
   "execution_count": 39,
   "metadata": {},
   "outputs": [
    {
     "data": {
      "text/plain": [
       "<matplotlib.axes._subplots.AxesSubplot at 0x7f36c0dbc208>"
      ]
     },
     "execution_count": 39,
     "metadata": {},
     "output_type": "execute_result"
    },
    {
     "data": {
      "image/png": "[encoded data removed]",
      "text/plain": [
       "<Figure size 1224x360 with 1 Axes>"
      ]
     },
     "metadata": {
      "needs_background": "light"
     },
     "output_type": "display_data"
    }
   ],
   "source": [
    "data3.groupby('location').median()['rspm'].sort_values(ascending = False).tail(50).plot(kind = 'bar', figsize = (17,5))"
   ]
  },
  {
   "cell_type": "markdown",
   "metadata": {},
   "source": [
    "We can also see that the lowest rspm level are in Pathanamthitta which is a city in Kerela which is quite obvious as Kerela is among those states with lowest rspm levels"
   ]
  },
  {
   "cell_type": "markdown",
   "metadata": {},
   "source": [
    "A very high rspm level could directly affect the people with many breathing/respiratory problems. "
   ]
  },
  {
   "cell_type": "markdown",
   "metadata": {},
   "source": [
    "---\n",
    "---\n",
    "---\n",
    "---\n",
    "---"
   ]
  },
  {
   "cell_type": "code",
   "execution_count": 40,
   "metadata": {},
   "outputs": [
    {
     "data": {
      "text/plain": [
       "<matplotlib.axes._subplots.AxesSubplot at 0x7f36c0d145c0>"
      ]
     },
     "execution_count": 40,
     "metadata": {},
     "output_type": "execute_result"
    },
    {
     "data": {
      "image/png": "[encoded data removed]",
      "text/plain": [
       "<Figure size 1224x360 with 1 Axes>"
      ]
     },
     "metadata": {
      "needs_background": "light"
     },
     "output_type": "display_data"
    }
   ],
   "source": [
    "data3.groupby('state').median()['spm'].sort_values(ascending = False).plot(kind = 'bar', figsize = (17,5))"
   ]
  },
  {
   "cell_type": "code",
   "execution_count": 41,
   "metadata": {},
   "outputs": [
    {
     "data": {
      "text/plain": [
       "<matplotlib.axes._subplots.AxesSubplot at 0x7f36c0f58f60>"
      ]
     },
     "execution_count": 41,
     "metadata": {},
     "output_type": "execute_result"
    },
    {
     "data": {
      "image/png": "[encoded data removed]",
      "text/plain": [
       "<Figure size 1224x360 with 1 Axes>"
      ]
     },
     "metadata": {
      "needs_background": "light"
     },
     "output_type": "display_data"
    }
   ],
   "source": [
    "data3.groupby('location').median()['spm'].sort_values(ascending = False).head(50).plot(kind = 'bar', figsize = (17,5))"
   ]
  },
  {
   "cell_type": "markdown",
   "metadata": {},
   "source": [
    "Similary we can see from the above plots that there is high level of spm for locations in Uttar Pradesh, Delhi and Rajasthan."
   ]
  },
  {
   "cell_type": "code",
   "execution_count": null,
   "metadata": {},
   "outputs": [],
   "source": []
  }
 ],
 "metadata": {
  "kernelspec": {
   "display_name": "Python 3",
   "language": "python",
   "name": "python3"
  },
  "language_info": {
   "codemirror_mode": {
    "name": "ipython",
    "version": 3
   },
   "file_extension": ".py",
   "mimetype": "text/x-python",
   "name": "python",
   "nbconvert_exporter": "python",
   "pygments_lexer": "ipython3",
   "version": "3.6.6"
  }
 },
 "nbformat": 4,
 "nbformat_minor": 1
}
